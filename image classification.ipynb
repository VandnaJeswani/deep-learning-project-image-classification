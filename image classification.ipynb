{
  "cells": [
    {
      "cell_type": "markdown",
      "metadata": {
        "id": "yzNUl0xgAQWc"
      },
      "source": [
        "# Cifar10 - Animal Classification\n",
        "\n"
      ]
    },
    {
      "cell_type": "markdown",
      "metadata": {
        "id": "V_YJwUN0gbnV"
      },
      "source": [
        "# New Section"
      ]
    },
    {
      "cell_type": "code",
      "execution_count": null,
      "metadata": {
        "id": "GLAufeiDeNc7"
      },
      "outputs": [],
      "source": [
        "import numpy as np\n",
        "import keras\n",
        "from keras.datasets import cifar10\n",
        "from keras.models import Sequential\n",
        "from keras.layers import Conv2D, MaxPooling2D, Dense, Flatten, Dropout, BatchNormalization\n",
        "from keras.optimizers import Adam\n",
        "from keras.utils import to_categorical\n",
        "from keras.callbacks import EarlyStopping\n",
        "\n",
        "\n",
        "\n"
      ]
    },
    {
      "cell_type": "code",
      "execution_count": null,
      "metadata": {
        "id": "uodgbYXnkes0"
      },
      "outputs": [],
      "source": [
        "# Load the CIFAR-10 dataset\n",
        "(x_train, y_train), (x_test, y_test) = cifar10.load_data()\n",
        "\n"
      ]
    },
    {
      "cell_type": "code",
      "execution_count": null,
      "metadata": {
        "id": "lKBu8D2CkhiN"
      },
      "outputs": [],
      "source": [
        "# Define the indices of the animal classes you want to keep\n",
        "animal_classes = [3, 4, 5, 6, 7]  # cat, deer, dog, frog, horse\n",
        "\n"
      ]
    },
    {
      "cell_type": "code",
      "execution_count": null,
      "metadata": {
        "id": "G9JddjDCkl4t"
      },
      "outputs": [],
      "source": [
        "# Filter the dataset to keep only the animal classes\n",
        "train_filter = np.isin(y_train, animal_classes).reshape(-1)\n",
        "test_filter = np.isin(y_test, animal_classes).reshape(-1)\n",
        "\n"
      ]
    },
    {
      "cell_type": "code",
      "execution_count": null,
      "metadata": {
        "id": "sDUwEnfIkwxk"
      },
      "outputs": [],
      "source": [
        "x_train = x_train[train_filter]\n",
        "y_train = y_train[train_filter]\n",
        "x_test = x_test[test_filter]\n",
        "y_test = y_test[test_filter]\n",
        "\n"
      ]
    },
    {
      "cell_type": "code",
      "execution_count": null,
      "metadata": {
        "id": "PmA6ZaPqk85t"
      },
      "outputs": [],
      "source": [
        "# Normalize pixel values to be between 0 and 1\n",
        "x_train, x_test = x_train / 255.0, x_test / 255.0\n",
        "\n"
      ]
    },
    {
      "cell_type": "code",
      "execution_count": null,
      "metadata": {
        "id": "umOoGorik-G9"
      },
      "outputs": [],
      "source": [
        "# Convert class vectors to binary class matrices\n",
        "num_classes = len(animal_classes)\n",
        "y_train = to_categorical(y_train - min(animal_classes), num_classes)\n",
        "y_test = to_categorical(y_test - min(animal_classes), num_classes)\n",
        "\n"
      ]
    },
    {
      "cell_type": "code",
      "execution_count": null,
      "metadata": {
        "id": "xJAJe8ezlCcQ"
      },
      "outputs": [],
      "source": [
        "\n",
        "# Build the model\n",
        "model = Sequential()\n",
        "model.add(Conv2D(32, (3, 3), activation='relu', input_shape=(32, 32, 3)))\n",
        "model.add(MaxPooling2D((2, 2)))\n",
        "model.add(Conv2D(64, (3, 3), activation='relu'))\n",
        "model.add(MaxPooling2D((2, 2)))\n",
        "model.add(Conv2D(64, (3, 3), activation='relu'))\n",
        "model.add(Flatten())\n",
        "model.add(Dense(64, activation='relu'))\n",
        "model.add(Dense(len(animal_classes), activation='softmax'))"
      ]
    },
    {
      "cell_type": "code",
      "execution_count": null,
      "metadata": {
        "id": "fEya1zGsnQdA"
      },
      "outputs": [],
      "source": [
        "# Compile the model\n",
        "model.compile(optimizer='adam',\n",
        "              loss='categorical_crossentropy',\n",
        "              metrics=['accuracy'])\n",
        "\n"
      ]
    },
    {
      "cell_type": "code",
      "execution_count": null,
      "metadata": {
        "id": "JhISQFSOkdyM"
      },
      "outputs": [],
      "source": [
        "\n",
        "# Define early stopping callback\n",
        "early_stopping = EarlyStopping(monitor='val_loss', patience=3)\n"
      ]
    },
    {
      "cell_type": "code",
      "execution_count": null,
      "metadata": {
        "colab": {
          "base_uri": "https://localhost:8080/"
        },
        "id": "77XsDt4ioLHn",
        "outputId": "f3b52590-eb5b-4884-b7aa-4d66733b562b"
      },
      "outputs": [
        {
          "output_type": "stream",
          "name": "stdout",
          "text": [
            "Epoch 1/10\n",
            "625/625 [==============================] - 6s 6ms/step - loss: 1.2399 - accuracy: 0.4741 - val_loss: 1.0626 - val_accuracy: 0.5770\n",
            "Epoch 2/10\n",
            "625/625 [==============================] - 3s 5ms/step - loss: 0.9803 - accuracy: 0.6123 - val_loss: 0.9451 - val_accuracy: 0.6268\n",
            "Epoch 3/10\n",
            "625/625 [==============================] - 3s 5ms/step - loss: 0.8814 - accuracy: 0.6564 - val_loss: 0.9068 - val_accuracy: 0.6446\n",
            "Epoch 4/10\n",
            "625/625 [==============================] - 4s 6ms/step - loss: 0.7989 - accuracy: 0.6899 - val_loss: 0.8021 - val_accuracy: 0.6922\n",
            "Epoch 5/10\n",
            "625/625 [==============================] - 3s 6ms/step - loss: 0.7299 - accuracy: 0.7185 - val_loss: 0.8277 - val_accuracy: 0.6840\n",
            "Epoch 6/10\n",
            "625/625 [==============================] - 3s 5ms/step - loss: 0.6729 - accuracy: 0.7409 - val_loss: 0.7717 - val_accuracy: 0.7000\n",
            "Epoch 7/10\n",
            "625/625 [==============================] - 3s 5ms/step - loss: 0.6217 - accuracy: 0.7611 - val_loss: 0.7990 - val_accuracy: 0.6986\n",
            "Epoch 8/10\n",
            "625/625 [==============================] - 4s 6ms/step - loss: 0.5675 - accuracy: 0.7828 - val_loss: 0.7933 - val_accuracy: 0.7022\n",
            "Epoch 9/10\n",
            "625/625 [==============================] - 3s 5ms/step - loss: 0.5167 - accuracy: 0.8065 - val_loss: 0.7803 - val_accuracy: 0.7196\n"
          ]
        }
      ],
      "source": [
        "\n",
        "# Train the model\n",
        "history = model.fit(x_train, y_train, epochs=10, validation_split=0.2, callbacks=[early_stopping])\n",
        "\n",
        "# Evaluate the model on the test set\n",
        "# test_loss, test_acc = model.evaluate(x_test, y_test)\n",
        "# print(\"Test accuracy:\", test_acc)"
      ]
    },
    {
      "cell_type": "code",
      "execution_count": null,
      "metadata": {
        "id": "snRsCxQqoOFC"
      },
      "outputs": [],
      "source": [
        "import random\n",
        "import matplotlib.pyplot as plt\n",
        "\n"
      ]
    },
    {
      "cell_type": "code",
      "execution_count": null,
      "metadata": {
        "id": "ABT_2YLIlOBX"
      },
      "outputs": [],
      "source": [
        "# Define the class names\n",
        "class_names = ['Cat', 'Deer', 'Dog', 'Frog', 'Horse']\n",
        "\n"
      ]
    },
    {
      "cell_type": "code",
      "execution_count": null,
      "metadata": {
        "colab": {
          "base_uri": "https://localhost:8080/"
        },
        "id": "HJQD5V4UlQwY",
        "outputId": "3cca41b2-2019-4e05-b949-bf7a77d80e0e"
      },
      "outputs": [
        {
          "output_type": "stream",
          "name": "stdout",
          "text": [
            "157/157 [==============================] - 0s 2ms/step\n"
          ]
        }
      ],
      "source": [
        "# Make predictions on the test set\n",
        "predictions = model.predict(x_test)\n",
        "\n",
        "\n"
      ]
    },
    {
      "cell_type": "code",
      "source": [
        "# Display some random images and their actual/predicted labels\n",
        "num_samples = 5\n",
        "random_indices = random.sample(range(len(x_test)), num_samples)\n"
      ],
      "metadata": {
        "id": "4zeuQEN7pYDK"
      },
      "execution_count": null,
      "outputs": []
    },
    {
      "cell_type": "code",
      "execution_count": null,
      "metadata": {
        "id": "AU5c7gghlVea",
        "colab": {
          "base_uri": "https://localhost:8080/",
          "height": 218
        },
        "outputId": "121bbb71-67ad-4286-ee9b-54b3a8051ce7"
      },
      "outputs": [
        {
          "output_type": "display_data",
          "data": {
            "text/plain": [
              "<Figure size 2000x300 with 5 Axes>"
            ],
            "image/png": "[encoded data removed]"
          },
          "metadata": {}
        }
      ],
      "source": [
        "# Create subplots\n",
        "fig, axes = plt.subplots(1, num_samples, figsize=(20, 3))\n",
        "\n",
        "for ax, i in zip(axes, random_indices):\n",
        "    actual_label = np.argmax(y_test[i])\n",
        "    predicted_label = np.argmax(predictions[i])\n",
        "\n",
        "    actual_class_name = class_names[actual_label]\n",
        "    predicted_class_name = class_names[predicted_label]\n",
        "\n",
        "    ax.imshow(x_test[i], interpolation='nearest')  # Set interpolation to 'nearest'\n",
        "    ax.set_title(f\"Actual: {actual_class_name}, Predicted: {predicted_class_name}\")\n",
        "    ax.axis('off')  # Turn off axis labels for cleaner display\n",
        "\n",
        "plt.show()"
      ]
    },
    {
      "cell_type": "code",
      "execution_count": null,
      "metadata": {
        "id": "TjXOdE41iG02"
      },
      "outputs": [],
      "source": [
        "import csv\n"
      ]
    },
    {
      "cell_type": "code",
      "execution_count": null,
      "metadata": {
        "id": "2ACS_hUuld8r",
        "colab": {
          "base_uri": "https://localhost:8080/"
        },
        "outputId": "ed180486-7e10-40ea-ae4c-ac2d39c2f438"
      },
      "outputs": [
        {
          "output_type": "stream",
          "name": "stdout",
          "text": [
            "157/157 [==============================] - 0s 2ms/step\n"
          ]
        }
      ],
      "source": [
        "# Make predictions on the test set\n",
        "predictions = model.predict(x_test)\n",
        "\n"
      ]
    },
    {
      "cell_type": "code",
      "execution_count": null,
      "metadata": {
        "id": "rnZvvvhilf2T"
      },
      "outputs": [],
      "source": [
        "# Create a list to store results\n",
        "results = []\n",
        "\n",
        "# Iterate through test samples\n",
        "for i in range(len(x_test)):\n",
        "    actual_label = np.argmax(y_test[i])\n",
        "    predicted_label = np.argmax(predictions[i])\n",
        "\n",
        "    actual_class_name = class_names[actual_label]\n",
        "    predicted_class_name = class_names[predicted_label]\n",
        "\n",
        "    results.append({\n",
        "        'ImageIndex': i,\n",
        "        'ActualLabel': actual_class_name,\n",
        "        'PredictedLabel': predicted_class_name\n",
        "    })\n",
        "\n"
      ]
    },
    {
      "cell_type": "code",
      "execution_count": null,
      "metadata": {
        "id": "bM4zHiyPi45m",
        "colab": {
          "base_uri": "https://localhost:8080/"
        },
        "outputId": "4eb92c11-f681-4ce7-f5ed-d3121ce01713"
      },
      "outputs": [
        {
          "output_type": "stream",
          "name": "stdout",
          "text": [
            "Results saved to test_results.csv\n"
          ]
        }
      ],
      "source": [
        "# Save results to a CSV file\n",
        "csv_filename = 'test_results.csv'\n",
        "fields = ['ImageIndex', 'ActualLabel', 'PredictedLabel']\n",
        "\n",
        "with open(csv_filename, 'w', newline='') as csvfile:\n",
        "    csvwriter = csv.DictWriter(csvfile, fieldnames=fields)\n",
        "\n",
        "    # Write the header\n",
        "    csvwriter.writeheader()\n",
        "\n",
        "    # Write the results\n",
        "    csvwriter.writerows(results)\n",
        "\n",
        "print(f\"Results saved to {csv_filename}\")"
      ]
    },
    {
      "cell_type": "code",
      "execution_count": null,
      "metadata": {
        "id": "jYOK3WzfloUZ",
        "colab": {
          "base_uri": "https://localhost:8080/"
        },
        "outputId": "5070e139-dddc-44e7-8347-a02299fe4938"
      },
      "outputs": [
        {
          "output_type": "stream",
          "name": "stdout",
          "text": [
            "1/1 [==============================] - 0s 122ms/step\n",
            "The predicted class is: Horse\n"
          ]
        }
      ],
      "source": [
        "from PIL import Image\n",
        "import numpy as np\n",
        "\n",
        "# Load the new image\n",
        "new_image_path = 'panda.jpeg'\n",
        "new_image = Image.open(new_image_path)\n",
        "\n",
        "# Preprocess the image\n",
        "new_image = new_image.resize((32, 32))\n",
        "new_image_array = np.array(new_image) / 255.0\n",
        "new_image_array = np.expand_dims(new_image_array, axis=0)  # Add a batch dimension\n",
        "\n",
        "# Make prediction using the trained model\n",
        "prediction = model.predict(new_image_array)\n",
        "\n",
        "# Get the predicted class index\n",
        "predicted_class_index = np.argmax(prediction)\n",
        "\n",
        "# Get the corresponding class name\n",
        "predicted_class_name = class_names[predicted_class_index]\n",
        "\n",
        "print(f\"The predicted class is: {predicted_class_name}\")\n"
      ]
    },
    {
      "cell_type": "code",
      "source": [
        "import csv\n",
        "\n",
        "# Load the new image\n",
        "new_image_path = 'panda.jpeg'\n",
        "new_image = Image.open(new_image_path)\n",
        "\n",
        "# Preprocess the image\n",
        "new_image = new_image.resize((32, 32))\n",
        "new_image_array = np.array(new_image) / 255.0\n",
        "new_image_array = np.expand_dims(new_image_array, axis=0)  # Add a batch dimension\n",
        "\n",
        "# Make prediction using the trained model\n",
        "prediction = model.predict(new_image_array)\n",
        "\n",
        "# Get the predicted class index\n",
        "predicted_class_index = np.argmax(prediction)\n",
        "\n",
        "# Get the corresponding class name\n",
        "predicted_class_name = class_names[predicted_class_index]\n",
        "\n",
        "# Print the predicted class\n",
        "print(f\"The predicted class is: {predicted_class_name}\")\n",
        "\n",
        "# Save the result in a CSV file\n",
        "csv_file_path = 'path/to/your/output.csv'\n",
        "\n",
        "with open(csv_file_path, 'w', newline='') as csv_file:\n",
        "    fieldnames = ['Image Path', 'Predicted Class']\n",
        "    writer = csv.DictWriter(csv_file, fieldnames=fieldnames)\n",
        "\n",
        "    writer.writeheader()\n",
        "    writer.writerow({'Image Path': new_image_path, 'Predicted Class': predicted_class_name})\n",
        "\n",
        "print(f\"Result saved to {csv_file_path}\")\n"
      ],
      "metadata": {
        "colab": {
          "base_uri": "https://localhost:8080/"
        },
        "id": "fCjBToj6ioH_",
        "outputId": "4bdab569-7cfd-42fe-ee2a-02e3923ac03e"
      },
      "execution_count": null,
      "outputs": [
        {
          "output_type": "stream",
          "name": "stdout",
          "text": [
            "1/1 [==============================] - 0s 82ms/step\n",
            "The predicted class is: Horse\n",
            "Result saved to test_results2.csv\n"
          ]
        }
      ]
    },
    {
      "cell_type": "code",
      "source": [],
      "metadata": {
        "id": "ruytcRDGi-hj"
      },
      "execution_count": null,
      "outputs": []
    }
  ],
  "metadata": {
    "accelerator": "GPU",
    "colab": {
      "provenance": []
    },
    "gpuClass": "standard",
    "kernelspec": {
      "display_name": "Python 3",
      "name": "python3"
    },
    "language_info": {
      "name": "python"
    }
  },
  "nbformat": 4,
  "nbformat_minor": 0
}